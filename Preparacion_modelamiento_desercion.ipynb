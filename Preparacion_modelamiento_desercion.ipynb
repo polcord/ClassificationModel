{
  "cells": [
    {
      "cell_type": "markdown",
      "metadata": {
        "id": "view-in-github",
        "colab_type": "text"
      },
      "source": [
        "<a href=\"https://colab.research.google.com/github/polcord/ClassificationModel/blob/main/Preparacion_modelamiento_desercion.ipynb\" target=\"_parent\"><img src=\"https://colab.research.google.com/assets/colab-badge.svg\" alt=\"Open In Colab\"/></a>"
      ]
    },
    {
      "cell_type": "markdown",
      "metadata": {
        "id": "h2cJyl5-xICq"
      },
      "source": [
        "\n",
        "# <center>  Preparación y modelamiento de datos para Deserción </center>\n",
        "\n",
        "- Nota: Este notebook fue ejecutado en la plataforma Google Colaboratory\n",
        "\n",
        "## Descripción\n",
        "\n",
        "- En esta sección utilizaremos procesos de ingeniería de variable y limpieza de datos para preparar el conjunto de datos antes del entrenamiento de los algoritmos.\n",
        "- Posteriomente, se ejecutarán los algoritmos de Regresión Logística y Random Forest para encontrar el algoritmo campeón.\n"
      ]
    },
    {
      "cell_type": "markdown",
      "source": [
        "### Preguntas\n",
        "\n",
        "1. Encontrar las variables más relevantes para discriminar entre clientes que\n",
        "desertan y clientes que no desertan.\n",
        "\n",
        "**Respuesta:** 'CreditScore', 'Geography', 'Gender', 'Age', 'Balance', 'NumOfProducts', 'IsActiveMember', 'EstimatedSalary', 'Geography', 'Gender'\n",
        "\n",
        "2. Elaborar un modelo logit con las variables que identificadas que más discriminan la deserción.\n",
        "\n",
        "**Respuesta:** Se implementó un modelo logit con regularización y balanceo de datos según la variable objetivo\n",
        "\n",
        "3. Comentar e interpretar los resultados del modelo logit.\n",
        "\n",
        "**Respuesta:** Mantiniendo el resto de predictores constantes (ceteris paribus), el aporte de cada predictor fue el siguiente:\n",
        "\n",
        "- CreditScore: Cuando el creditScore aumenta en una unidad (por ejemplo, de 600 a 601), las odds de que ocurra el evento \"éxito\" (por ejemplo, un cliente deserte) disminuyen en aproximadamente un 6.85%.\n",
        "- Age: Cuando la edad aumenta en una unidad, las odds de que ocurra el evento \"éxito\" (por ejemplo, un cliente deserte) aumentan en aproximadamente 134.17%.\n",
        "- Balance: Cuando el saldo aumenta en una unidad, las odds de que ocurra el evento \"éxito\" (por ejemplo, un cliente deserte) aumentan en aproximadamente 37.44%.\n",
        "- NumOfProducts: Cuando el número de productos (NumOfProducts) aumenta en una unidad, las odds de que ocurra el evento \"éxito\" (por ejemplo, un cliente deserte) disminuyen en aproximadamente 8.78%.\n",
        "- IsActiveMember: Cuando el estado de ser miembro activo (IsActiveMember) cambia de 0 a 1, las odds de que ocurra el evento \"éxito\" (por ejemplo, un cliente deserte) disminuyen en aproximadamente 51.42%. Esto sugiere que los clientes que son miembros activos tienen menores odds de desertar en comparación con los que no son miembros activos.\n",
        "- EstimatedSalary: Cuando el salario estimado (EstimatedSalary) aumenta en una unidad, las odds de que ocurra el evento \"éxito\" (por ejemplo, un cliente deserte) aumentan en aproximadamente 4.20%.\n",
        "- Geography_Germany: Si el cliente es de Alemania (Geography_Germany), las odds de que ocurra el evento \"éxito\" (por ejemplo, un cliente deserte) aumentan en aproximadamente 75.80% en comparación con el caso base de la geografía de referencia (France).\n",
        "- Geography_Spain: Si el cliente es de España (Geography_Spain), las odds de que ocurra el evento \"éxito\" (por ejemplo, un cliente deserte) disminuyen en aproximadamente 2.05% en comparación con el caso base de la geografía de referencia (France).\n",
        "- Gender_Male: Si el género del cliente es masculino (Gender_Male), las odds de que ocurra el evento \"éxito\" (por ejemplo, un cliente deserte) disminuyen en aproximadamente 37.56% en comparación con el caso base del género de referencia (Female).\n",
        "\n",
        "4. Elaborar un modelo competidor (el que tú elijas) con las mismas variables.\n",
        "\n",
        "Se comparó contra el modelo de Ramdom Forest.\n",
        "\n",
        "5. Comentar e interpretar los resultados del modelo.\n",
        "\n",
        "El modelo de regresión logística presento en el Auc del modelo los siguientes resultados:\n",
        "\n",
        "Train 0.77 | Test 0.75\n",
        "\n",
        "Lo cual nos permite intuir la no presencia de overfitting del modelo. Se espera que el Auc sea cercano a 1 (modelo perfecto); pero con datos del mundo real tener un auc de 0.75 (gini de 0.5) es aceptable.\n",
        "\n",
        "6. Comparar los resultados del modelo logit vs el modelo competidor. ¿Cuál es mejor?\n",
        "¿Por qué?\n",
        "\n",
        "Se compararon los resultados en test de ambos modelos teniendo los siguientes resultados:\n",
        "\n",
        "Regresión Logística Test 0.75 | Random Forest Test 0.86\n",
        "\n",
        "Por lo cual se puede concluir que el modelo de Random Forest tiene un mejor desempeño en datos que no ha visto el modelo al ser mayor su valor de auc en los datos de test."
      ],
      "metadata": {
        "id": "kiB0FdbCLnCn"
      }
    },
    {
      "cell_type": "markdown",
      "source": [
        "**A continuación, encuentra el código que detalla la respuesta a cada una de las preguntas antes expuestas.**"
      ],
      "metadata": {
        "id": "YQaUc9C3WXg_"
      }
    },
    {
      "cell_type": "markdown",
      "metadata": {
        "id": "qyHhPWbOxICt"
      },
      "source": [
        "## Importar librerías y verificar versiones"
      ]
    },
    {
      "cell_type": "code",
      "execution_count": null,
      "metadata": {
        "id": "0HIA3jBZxICt"
      },
      "outputs": [],
      "source": [
        "import sys\n",
        "import numpy as np\n",
        "import pandas as pd\n",
        "import sklearn as sk\n",
        "import seaborn as sns\n",
        "import matplotlib\n",
        "import math"
      ]
    },
    {
      "cell_type": "code",
      "execution_count": null,
      "metadata": {
        "colab": {
          "base_uri": "https://localhost:8080/"
        },
        "id": "xUR-_sA-xICv",
        "outputId": "bff59043-c4e5-45d3-eb08-f9cbca661dc6"
      },
      "outputs": [
        {
          "output_type": "stream",
          "name": "stdout",
          "text": [
            "** Versiones Actuales | Requeridas **\n",
            "Python:\n",
            "Version Actual: 3.10.12 (main, Jun 11 2023, 05:26:28) [GCC 11.4.0]  | Requerida >= 3.6\n",
            "NumPy:\n",
            "Version Actual: 1.23.5     | Requerida >= 1.16.2\n",
            "Pandas:\n",
            "Version Actual: 1.5.3     | Requerida >= 0.24.2\n",
            "Scikit-learn:\n",
            "Version Actual: 1.2.2     | Requerida >= 1.2.1\n",
            "Matplotlib:\n",
            "Version Actual: 3.7.1      | Requerida >= 3.0.3\n",
            "Seaborn:\n",
            "Version Actual: 0.12.2     |Requerida >= 0.9.0 \n"
          ]
        }
      ],
      "source": [
        "print('** Versiones Actuales | Requeridas **')\n",
        "print('Python:\\nVersion Actual:', sys.version, ' | Requerida >= 3.6')\n",
        "print('NumPy:\\nVersion Actual: {:10} | Requerida >= 1.16.2'.format(np.__version__))\n",
        "print('Pandas:\\nVersion Actual: {:10}| Requerida >= 0.24.2'.format(pd.__version__))\n",
        "print('Scikit-learn:\\nVersion Actual: {:10}| Requerida >= 1.2.1'.format(sk.__version__))\n",
        "print('Matplotlib:\\nVersion Actual: {:10} | Requerida >= 3.0.3'.format(matplotlib.__version__))\n",
        "print('Seaborn:\\nVersion Actual: {:10} |Requerida >= 0.9.0 '.format(sns.__version__))"
      ]
    },
    {
      "cell_type": "code",
      "execution_count": null,
      "metadata": {
        "id": "zeRBeXQBxICw"
      },
      "outputs": [],
      "source": [
        "from sklearn.pipeline import Pipeline\n",
        "from sklearn.compose import ColumnTransformer\n",
        "from sklearn.impute import SimpleImputer\n",
        "from sklearn.preprocessing import OneHotEncoder, RobustScaler\n",
        "from sklearn.feature_selection import SelectKBest, chi2\n",
        "\n",
        "from sklearn.model_selection import train_test_split, GridSearchCV\n",
        "from sklearn.linear_model import LogisticRegression\n",
        "from sklearn.ensemble import RandomForestClassifier\n",
        "\n",
        "from sklearn import metrics\n",
        "\n",
        "import matplotlib.pyplot as plt"
      ]
    },
    {
      "cell_type": "markdown",
      "metadata": {
        "id": "iQX3MrehxICy"
      },
      "source": [
        "## Carga de los datos\n",
        "\n",
        "Se creó un dataframe de Python para trabajar con el conjunto de datos estructurados de los clientes. En este sentido, se realizaron los cálculos y operaciones respectivas para crear la variable objetivo y aplicar la limpieza de datos necesaria para el proceso.\n",
        "\n",
        "Con ello, se disponen de 10000 registros en el conjunto de datos."
      ]
    },
    {
      "cell_type": "code",
      "execution_count": null,
      "metadata": {
        "colab": {
          "base_uri": "https://localhost:8080/",
          "height": 243
        },
        "id": "FppseEN0xICz",
        "outputId": "f89c7aac-01cc-47a6-c644-df1e4ea370a2"
      },
      "outputs": [
        {
          "output_type": "stream",
          "name": "stdout",
          "text": [
            "\n",
            " No. filas y columnas (10000, 14)\n"
          ]
        },
        {
          "output_type": "execute_result",
          "data": {
            "text/plain": [
              "      RowNumber  CustomerId   Surname  CreditScore Geography  Gender  Age  \\\n",
              "6252       6253    15687492  Anderson          596   Germany    Male   32   \n",
              "4684       4685    15736963   Herring          623    France    Male   43   \n",
              "1731       1732    15721730    Amechi          601     Spain  Female   44   \n",
              "4742       4743    15762134     Liang          506   Germany    Male   59   \n",
              "4521       4522    15648898    Chuang          560     Spain  Female   27   \n",
              "\n",
              "      Tenure    Balance  NumOfProducts  HasCrCard  IsActiveMember  \\\n",
              "6252       3   96709.07              2          0               0   \n",
              "4684       1       0.00              2          1               1   \n",
              "1731       4       0.00              2          1               0   \n",
              "4742       8  119152.10              2          1               1   \n",
              "4521       7  124995.98              1          1               1   \n",
              "\n",
              "      EstimatedSalary  Exited  \n",
              "6252         41788.37       0  \n",
              "4684        146379.30       0  \n",
              "1731         58561.31       0  \n",
              "4742        170679.74       0  \n",
              "4521        114669.79       0  "
            ],
            "text/html": [
              "\n",
              "\n",
              "  <div id=\"df-dca3594f-5fc3-4ed2-a87d-07d90ab814bb\">\n",
              "    <div class=\"colab-df-container\">\n",
              "      <div>\n",
              "<style scoped>\n",
              "    .dataframe tbody tr th:only-of-type {\n",
              "        vertical-align: middle;\n",
              "    }\n",
              "\n",
              "    .dataframe tbody tr th {\n",
              "        vertical-align: top;\n",
              "    }\n",
              "\n",
              "    .dataframe thead th {\n",
              "        text-align: right;\n",
              "    }\n",
              "</style>\n",
              "<table border=\"1\" class=\"dataframe\">\n",
              "  <thead>\n",
              "    <tr style=\"text-align: right;\">\n",
              "      <th></th>\n",
              "      <th>RowNumber</th>\n",
              "      <th>CustomerId</th>\n",
              "      <th>Surname</th>\n",
              "      <th>CreditScore</th>\n",
              "      <th>Geography</th>\n",
              "      <th>Gender</th>\n",
              "      <th>Age</th>\n",
              "      <th>Tenure</th>\n",
              "      <th>Balance</th>\n",
              "      <th>NumOfProducts</th>\n",
              "      <th>HasCrCard</th>\n",
              "      <th>IsActiveMember</th>\n",
              "      <th>EstimatedSalary</th>\n",
              "      <th>Exited</th>\n",
              "    </tr>\n",
              "  </thead>\n",
              "  <tbody>\n",
              "    <tr>\n",
              "      <th>6252</th>\n",
              "      <td>6253</td>\n",
              "      <td>15687492</td>\n",
              "      <td>Anderson</td>\n",
              "      <td>596</td>\n",
              "      <td>Germany</td>\n",
              "      <td>Male</td>\n",
              "      <td>32</td>\n",
              "      <td>3</td>\n",
              "      <td>96709.07</td>\n",
              "      <td>2</td>\n",
              "      <td>0</td>\n",
              "      <td>0</td>\n",
              "      <td>41788.37</td>\n",
              "      <td>0</td>\n",
              "    </tr>\n",
              "    <tr>\n",
              "      <th>4684</th>\n",
              "      <td>4685</td>\n",
              "      <td>15736963</td>\n",
              "      <td>Herring</td>\n",
              "      <td>623</td>\n",
              "      <td>France</td>\n",
              "      <td>Male</td>\n",
              "      <td>43</td>\n",
              "      <td>1</td>\n",
              "      <td>0.00</td>\n",
              "      <td>2</td>\n",
              "      <td>1</td>\n",
              "      <td>1</td>\n",
              "      <td>146379.30</td>\n",
              "      <td>0</td>\n",
              "    </tr>\n",
              "    <tr>\n",
              "      <th>1731</th>\n",
              "      <td>1732</td>\n",
              "      <td>15721730</td>\n",
              "      <td>Amechi</td>\n",
              "      <td>601</td>\n",
              "      <td>Spain</td>\n",
              "      <td>Female</td>\n",
              "      <td>44</td>\n",
              "      <td>4</td>\n",
              "      <td>0.00</td>\n",
              "      <td>2</td>\n",
              "      <td>1</td>\n",
              "      <td>0</td>\n",
              "      <td>58561.31</td>\n",
              "      <td>0</td>\n",
              "    </tr>\n",
              "    <tr>\n",
              "      <th>4742</th>\n",
              "      <td>4743</td>\n",
              "      <td>15762134</td>\n",
              "      <td>Liang</td>\n",
              "      <td>506</td>\n",
              "      <td>Germany</td>\n",
              "      <td>Male</td>\n",
              "      <td>59</td>\n",
              "      <td>8</td>\n",
              "      <td>119152.10</td>\n",
              "      <td>2</td>\n",
              "      <td>1</td>\n",
              "      <td>1</td>\n",
              "      <td>170679.74</td>\n",
              "      <td>0</td>\n",
              "    </tr>\n",
              "    <tr>\n",
              "      <th>4521</th>\n",
              "      <td>4522</td>\n",
              "      <td>15648898</td>\n",
              "      <td>Chuang</td>\n",
              "      <td>560</td>\n",
              "      <td>Spain</td>\n",
              "      <td>Female</td>\n",
              "      <td>27</td>\n",
              "      <td>7</td>\n",
              "      <td>124995.98</td>\n",
              "      <td>1</td>\n",
              "      <td>1</td>\n",
              "      <td>1</td>\n",
              "      <td>114669.79</td>\n",
              "      <td>0</td>\n",
              "    </tr>\n",
              "  </tbody>\n",
              "</table>\n",
              "</div>\n",
              "      <button class=\"colab-df-convert\" onclick=\"convertToInteractive('df-dca3594f-5fc3-4ed2-a87d-07d90ab814bb')\"\n",
              "              title=\"Convert this dataframe to an interactive table.\"\n",
              "              style=\"display:none;\">\n",
              "\n",
              "  <svg xmlns=\"http://www.w3.org/2000/svg\" height=\"24px\"viewBox=\"0 0 24 24\"\n",
              "       width=\"24px\">\n",
              "    <path d=\"M0 0h24v24H0V0z\" fill=\"none\"/>\n",
              "    <path d=\"M18.56 5.44l.94 2.06.94-2.06 2.06-.94-2.06-.94-.94-2.06-.94 2.06-2.06.94zm-11 1L8.5 8.5l.94-2.06 2.06-.94-2.06-.94L8.5 2.5l-.94 2.06-2.06.94zm10 10l.94 2.06.94-2.06 2.06-.94-2.06-.94-.94-2.06-.94 2.06-2.06.94z\"/><path d=\"M17.41 7.96l-1.37-1.37c-.4-.4-.92-.59-1.43-.59-.52 0-1.04.2-1.43.59L10.3 9.45l-7.72 7.72c-.78.78-.78 2.05 0 2.83L4 21.41c.39.39.9.59 1.41.59.51 0 1.02-.2 1.41-.59l7.78-7.78 2.81-2.81c.8-.78.8-2.07 0-2.86zM5.41 20L4 18.59l7.72-7.72 1.47 1.35L5.41 20z\"/>\n",
              "  </svg>\n",
              "      </button>\n",
              "\n",
              "\n",
              "\n",
              "    <div id=\"df-5bc80ca8-2eea-45a9-9602-d399f5eb1c78\">\n",
              "      <button class=\"colab-df-quickchart\" onclick=\"quickchart('df-5bc80ca8-2eea-45a9-9602-d399f5eb1c78')\"\n",
              "              title=\"Suggest charts.\"\n",
              "              style=\"display:none;\">\n",
              "\n",
              "<svg xmlns=\"http://www.w3.org/2000/svg\" height=\"24px\"viewBox=\"0 0 24 24\"\n",
              "     width=\"24px\">\n",
              "    <g>\n",
              "        <path d=\"M19 3H5c-1.1 0-2 .9-2 2v14c0 1.1.9 2 2 2h14c1.1 0 2-.9 2-2V5c0-1.1-.9-2-2-2zM9 17H7v-7h2v7zm4 0h-2V7h2v10zm4 0h-2v-4h2v4z\"/>\n",
              "    </g>\n",
              "</svg>\n",
              "      </button>\n",
              "    </div>\n",
              "\n",
              "<style>\n",
              "  .colab-df-quickchart {\n",
              "    background-color: #E8F0FE;\n",
              "    border: none;\n",
              "    border-radius: 50%;\n",
              "    cursor: pointer;\n",
              "    display: none;\n",
              "    fill: #1967D2;\n",
              "    height: 32px;\n",
              "    padding: 0 0 0 0;\n",
              "    width: 32px;\n",
              "  }\n",
              "\n",
              "  .colab-df-quickchart:hover {\n",
              "    background-color: #E2EBFA;\n",
              "    box-shadow: 0px 1px 2px rgba(60, 64, 67, 0.3), 0px 1px 3px 1px rgba(60, 64, 67, 0.15);\n",
              "    fill: #174EA6;\n",
              "  }\n",
              "\n",
              "  [theme=dark] .colab-df-quickchart {\n",
              "    background-color: #3B4455;\n",
              "    fill: #D2E3FC;\n",
              "  }\n",
              "\n",
              "  [theme=dark] .colab-df-quickchart:hover {\n",
              "    background-color: #434B5C;\n",
              "    box-shadow: 0px 1px 3px 1px rgba(0, 0, 0, 0.15);\n",
              "    filter: drop-shadow(0px 1px 2px rgba(0, 0, 0, 0.3));\n",
              "    fill: #FFFFFF;\n",
              "  }\n",
              "</style>\n",
              "\n",
              "    <script>\n",
              "      async function quickchart(key) {\n",
              "        const containerElement = document.querySelector('#' + key);\n",
              "        const charts = await google.colab.kernel.invokeFunction(\n",
              "            'suggestCharts', [key], {});\n",
              "      }\n",
              "    </script>\n",
              "\n",
              "      <script>\n",
              "\n",
              "function displayQuickchartButton(domScope) {\n",
              "  let quickchartButtonEl =\n",
              "    domScope.querySelector('#df-5bc80ca8-2eea-45a9-9602-d399f5eb1c78 button.colab-df-quickchart');\n",
              "  quickchartButtonEl.style.display =\n",
              "    google.colab.kernel.accessAllowed ? 'block' : 'none';\n",
              "}\n",
              "\n",
              "        displayQuickchartButton(document);\n",
              "      </script>\n",
              "      <style>\n",
              "    .colab-df-container {\n",
              "      display:flex;\n",
              "      flex-wrap:wrap;\n",
              "      gap: 12px;\n",
              "    }\n",
              "\n",
              "    .colab-df-convert {\n",
              "      background-color: #E8F0FE;\n",
              "      border: none;\n",
              "      border-radius: 50%;\n",
              "      cursor: pointer;\n",
              "      display: none;\n",
              "      fill: #1967D2;\n",
              "      height: 32px;\n",
              "      padding: 0 0 0 0;\n",
              "      width: 32px;\n",
              "    }\n",
              "\n",
              "    .colab-df-convert:hover {\n",
              "      background-color: #E2EBFA;\n",
              "      box-shadow: 0px 1px 2px rgba(60, 64, 67, 0.3), 0px 1px 3px 1px rgba(60, 64, 67, 0.15);\n",
              "      fill: #174EA6;\n",
              "    }\n",
              "\n",
              "    [theme=dark] .colab-df-convert {\n",
              "      background-color: #3B4455;\n",
              "      fill: #D2E3FC;\n",
              "    }\n",
              "\n",
              "    [theme=dark] .colab-df-convert:hover {\n",
              "      background-color: #434B5C;\n",
              "      box-shadow: 0px 1px 3px 1px rgba(0, 0, 0, 0.15);\n",
              "      filter: drop-shadow(0px 1px 2px rgba(0, 0, 0, 0.3));\n",
              "      fill: #FFFFFF;\n",
              "    }\n",
              "  </style>\n",
              "\n",
              "      <script>\n",
              "        const buttonEl =\n",
              "          document.querySelector('#df-dca3594f-5fc3-4ed2-a87d-07d90ab814bb button.colab-df-convert');\n",
              "        buttonEl.style.display =\n",
              "          google.colab.kernel.accessAllowed ? 'block' : 'none';\n",
              "\n",
              "        async function convertToInteractive(key) {\n",
              "          const element = document.querySelector('#df-dca3594f-5fc3-4ed2-a87d-07d90ab814bb');\n",
              "          const dataTable =\n",
              "            await google.colab.kernel.invokeFunction('convertToInteractive',\n",
              "                                                     [key], {});\n",
              "          if (!dataTable) return;\n",
              "\n",
              "          const docLinkHtml = 'Like what you see? Visit the ' +\n",
              "            '<a target=\"_blank\" href=https://colab.research.google.com/notebooks/data_table.ipynb>data table notebook</a>'\n",
              "            + ' to learn more about interactive tables.';\n",
              "          element.innerHTML = '';\n",
              "          dataTable['output_type'] = 'display_data';\n",
              "          await google.colab.output.renderOutput(dataTable, element);\n",
              "          const docLink = document.createElement('div');\n",
              "          docLink.innerHTML = docLinkHtml;\n",
              "          element.appendChild(docLink);\n",
              "        }\n",
              "      </script>\n",
              "    </div>\n",
              "  </div>\n"
            ]
          },
          "metadata": {},
          "execution_count": 4
        }
      ],
      "source": [
        "# Ruta del directorio en la nube\n",
        "ruta1 = 'https://raw.githubusercontent.com/vmoprojs/DataLectures/master/Bank_churn_modelling.csv'\n",
        "\n",
        "# Lectura de los datos usando pandas (creación de DataFrames)\n",
        "datos = pd.read_csv(ruta1,\n",
        "                    header = 0,\n",
        "                    sep = ',',\n",
        "                    quotechar='\"',\n",
        "                    encoding = 'utf-8')\n",
        "\n",
        "datos['Geography'] = datos.Geography.str.strip()\n",
        "\n",
        "datos = datos.sample(frac=1, random_state=42)\n",
        "\n",
        "print('\\n No. filas y columnas', datos.shape)\n",
        "\n",
        "datos.head()"
      ]
    },
    {
      "cell_type": "markdown",
      "metadata": {
        "id": "6O0sMMByxIC0"
      },
      "source": [
        "### Selección de variable objetivo y predictores del DataFrame\n",
        "\n",
        "La nomeclatura estándar para la variable objetivo sera `y`, mientras que para los predictores `X`."
      ]
    },
    {
      "cell_type": "code",
      "execution_count": null,
      "metadata": {
        "id": "_giOqPjIxIC0"
      },
      "outputs": [],
      "source": [
        "# Almacenamos en una nueva variable a nuestro target\n",
        "target = 'Exited'\n",
        "y = datos.loc[:, target]"
      ]
    },
    {
      "cell_type": "markdown",
      "metadata": {
        "id": "y3BirN1dNbqr"
      },
      "source": [
        "En base al análisis exploratorio de datos y al criterio experto se identificaron los siguientes aspectos a partir del ***Reporte_df_desercion.html***:\n",
        "\n",
        "- No se encuentran valores perdidos (missing) dentro del conjunto de datos.\n",
        "- Existe un desbalance en nuestra variable objetivo **Exited** cerca de un 79.6% no han presentado deserción (esto es lógico de acuerdo a la dinámica del proceso).\n",
        "- El campo de Credit Score presenta una concentración de valores considerable en el valor de 850 (al compararlo con el resto de la distribución)\n",
        "- El campo Balance tiene una concentración de 36.2% en el valor de cero\n",
        "\n",
        "Esto aspectos seran controlados durante el transcurso del proceso."
      ]
    },
    {
      "cell_type": "code",
      "execution_count": null,
      "metadata": {
        "id": "M8_q8DjBKeQu"
      },
      "outputs": [],
      "source": [
        "# Seleccionar predictores\n",
        "cols_que_no_aportan = ['RowNumber', 'CustomerId', 'Surname']\n",
        "\n",
        "campos_excluidos = cols_que_no_aportan + [target]\n",
        "\n",
        "X = datos.loc[:, [i for i in datos.columns if i not in campos_excluidos]]"
      ]
    },
    {
      "cell_type": "markdown",
      "metadata": {
        "id": "UKKDqQXWNkKP"
      },
      "source": [
        "A continuación, se muestran los campos que se emplearán para el proceso de preparación de datos antes del modelamiento."
      ]
    },
    {
      "cell_type": "code",
      "execution_count": null,
      "metadata": {
        "colab": {
          "base_uri": "https://localhost:8080/"
        },
        "id": "4N6v3aLFNl6b",
        "outputId": "f0797e69-52b8-49c4-b438-73f790272709"
      },
      "outputs": [
        {
          "output_type": "execute_result",
          "data": {
            "text/plain": [
              "Index(['CreditScore', 'Geography', 'Gender', 'Age', 'Tenure', 'Balance',\n",
              "       'NumOfProducts', 'HasCrCard', 'IsActiveMember', 'EstimatedSalary'],\n",
              "      dtype='object')"
            ]
          },
          "metadata": {},
          "execution_count": 7
        }
      ],
      "source": [
        "X.columns"
      ]
    },
    {
      "cell_type": "markdown",
      "metadata": {
        "id": "Fe5bYesnxIC0"
      },
      "source": [
        "### División en datos de training y test"
      ]
    },
    {
      "cell_type": "markdown",
      "metadata": {
        "id": "_cZU5VJ_xIC1"
      },
      "source": [
        "Se requiere separar una parte del conjunto de datos para el entrenamiento del modelo y otra para validar los resultados.\n",
        "\n",
        "El conjunto de datos de validación no forma parte del entrenamiento y será de utilidad para el ejercicio de predicción para nuevos datos; permitiendo corroborar el desempeño del modelo.\n",
        "\n",
        "Se determina el uso de una semilla, para mantener la reproducibilidad de la división aleatoria de los datos. Un 80% se destinará para el entrenamiento y un 20% para validación (contraste de métricas).\n",
        "\n",
        "Adicionalmente se aplica el muestreo estratificado para que se mantenga una misma proporción de clientes que han desertado o no dentro de las divisiones de train y test."
      ]
    },
    {
      "cell_type": "code",
      "execution_count": null,
      "metadata": {
        "id": "XFWThlX1NyPj"
      },
      "outputs": [],
      "source": [
        "SEED = 42"
      ]
    },
    {
      "cell_type": "code",
      "execution_count": null,
      "metadata": {
        "id": "BrzBCsSPxIC1"
      },
      "outputs": [],
      "source": [
        "X_train, X_test, y_train, y_test = train_test_split(X, y, stratify=y, test_size=0.2, random_state=SEED)"
      ]
    },
    {
      "cell_type": "code",
      "source": [
        "y_train.value_counts(normalize = True)"
      ],
      "metadata": {
        "colab": {
          "base_uri": "https://localhost:8080/"
        },
        "id": "fRf_RX7pOKyQ",
        "outputId": "ac674d13-d5f7-414b-a7ad-1303880888ab"
      },
      "execution_count": null,
      "outputs": [
        {
          "output_type": "execute_result",
          "data": {
            "text/plain": [
              "0    0.79625\n",
              "1    0.20375\n",
              "Name: Exited, dtype: float64"
            ]
          },
          "metadata": {},
          "execution_count": 10
        }
      ]
    },
    {
      "cell_type": "code",
      "source": [
        "y_test.value_counts(normalize = True)"
      ],
      "metadata": {
        "colab": {
          "base_uri": "https://localhost:8080/"
        },
        "id": "VWSIZJrYPwA-",
        "outputId": "b844eaef-d9a9-4f43-bcd0-95ffcead78e1"
      },
      "execution_count": null,
      "outputs": [
        {
          "output_type": "execute_result",
          "data": {
            "text/plain": [
              "0    0.7965\n",
              "1    0.2035\n",
              "Name: Exited, dtype: float64"
            ]
          },
          "metadata": {},
          "execution_count": 11
        }
      ]
    },
    {
      "cell_type": "markdown",
      "metadata": {
        "id": "t-6HWzprN9S1"
      },
      "source": [
        "El número de clientes con los que será entrenado el modelo será de 8000 registros y será evaluado con 2000 registros."
      ]
    },
    {
      "cell_type": "code",
      "execution_count": null,
      "metadata": {
        "colab": {
          "base_uri": "https://localhost:8080/"
        },
        "id": "k6UAC35TxIC1",
        "outputId": "0508605e-eaa2-4081-fded-77a8eb032ee3"
      },
      "outputs": [
        {
          "output_type": "stream",
          "name": "stdout",
          "text": [
            "(8000, 10) (2000, 10) (8000,) (2000,)\n"
          ]
        }
      ],
      "source": [
        "# Imprimir las filas y columnas de los datos de training y test: para los predictores y para la variables objetivo\n",
        "print(X_train.shape, X_test.shape, y_train.shape, y_test.shape)"
      ]
    },
    {
      "cell_type": "markdown",
      "metadata": {
        "id": "ucdm_5oRxIC2"
      },
      "source": [
        "### Ingeniería de variable para variables numéricas y categóricas"
      ]
    },
    {
      "cell_type": "code",
      "execution_count": null,
      "metadata": {
        "colab": {
          "base_uri": "https://localhost:8080/"
        },
        "id": "St-VjncoxIC2",
        "outputId": "224591e5-c19b-467a-b548-d9ce0a84f28d"
      },
      "outputs": [
        {
          "output_type": "stream",
          "name": "stdout",
          "text": [
            "Index(['CreditScore', 'Age', 'Tenure', 'Balance', 'NumOfProducts', 'HasCrCard',\n",
            "       'IsActiveMember', 'EstimatedSalary'],\n",
            "      dtype='object')\n"
          ]
        }
      ],
      "source": [
        "# Selección de los nombres de las variables numéricas\n",
        "X_num = X_train.select_dtypes(include=np.number).columns\n",
        "print(X_num)"
      ]
    },
    {
      "cell_type": "code",
      "execution_count": null,
      "metadata": {
        "colab": {
          "base_uri": "https://localhost:8080/"
        },
        "id": "zGcLKM9S5z_w",
        "outputId": "0cbc0435-f469-4c86-b59f-ced133853a94"
      },
      "outputs": [
        {
          "output_type": "stream",
          "name": "stdout",
          "text": [
            "Index(['Geography', 'Gender'], dtype='object')\n"
          ]
        }
      ],
      "source": [
        "# Selección de los nombres de las variables categóricas\n",
        "X_cat = X_train.select_dtypes(include=object).columns\n",
        "print(X_cat)"
      ]
    },
    {
      "cell_type": "markdown",
      "source": [
        "### Selección de Features\n",
        "\n",
        "En el contexto de la selección de predictores, si tienes un valor p mayor a 0.05 después de realizar una prueba chi2 para una variable predictora, se sugiere que esa variable puede no ser estadísticamente relevante para predecir la variable objetivo en el modelo.\n",
        "\n",
        "Por lo cual se decide descartar a los predictores: HasCrCard\tY Tenure"
      ],
      "metadata": {
        "id": "yJ2ejiUg1FeO"
      }
    },
    {
      "cell_type": "code",
      "source": [
        "numeric_transformer = Pipeline(steps=[\n",
        "    ('imputer', SimpleImputer(strategy='median'))])\n",
        "\n",
        "categorical_transformer = Pipeline(steps=[\n",
        "    (\"categorical\", OneHotEncoder(handle_unknown=\"ignore\", drop='first'))])\n",
        "\n",
        "preprocessor_selection_features = ColumnTransformer(\n",
        "    transformers=[\n",
        "        ('num', numeric_transformer, X_num),\n",
        "        ('cat', categorical_transformer, X_cat)], verbose_feature_names_out=True)\n",
        "\n",
        "feature_selection = Pipeline(steps=[('preprocessor', preprocessor_selection_features),\n",
        "                                    ('selector', SelectKBest(score_func=chi2, k=11))])\n",
        "\n",
        "chi2_selector = feature_selection.fit(X_train, y_train)[-1]\n",
        "\n",
        "columns_selector_chi2 = preprocessor_selection_features.fit(X_train, y_train).get_feature_names_out().tolist()\n",
        "\n",
        "chi2_scores = pd.DataFrame(list(zip(columns_selector_chi2, chi2_selector.scores_, chi2_selector.pvalues_)), columns=['ftr', 'score', 'pval']).round(3)\n",
        "chi2_scores.sort_values('score', ascending=False)"
      ],
      "metadata": {
        "colab": {
          "base_uri": "https://localhost:8080/",
          "height": 394
        },
        "id": "gz-3q3tEb7F9",
        "outputId": "79de76fd-69ee-44cf-9a19-b42c74e03c3e"
      },
      "execution_count": null,
      "outputs": [
        {
          "output_type": "execute_result",
          "data": {
            "text/plain": [
              "                       ftr        score   pval\n",
              "3             num__Balance  5613014.512  0.000\n",
              "7     num__EstimatedSalary    55105.726  0.000\n",
              "1                 num__Age     1921.884  0.000\n",
              "8   cat__Geography_Germany      179.158  0.000\n",
              "6      num__IsActiveMember       91.931  0.000\n",
              "0         num__CreditScore       81.267  0.000\n",
              "10        cat__Gender_Male       49.333  0.000\n",
              "9     cat__Geography_Spain       15.166  0.000\n",
              "4       num__NumOfProducts        4.651  0.031\n",
              "2              num__Tenure        0.782  0.376\n",
              "5           num__HasCrCard        0.008  0.927"
            ],
            "text/html": [
              "\n",
              "\n",
              "  <div id=\"df-6481bed8-d8eb-48a7-8b2a-9cfbc87b1b8f\">\n",
              "    <div class=\"colab-df-container\">\n",
              "      <div>\n",
              "<style scoped>\n",
              "    .dataframe tbody tr th:only-of-type {\n",
              "        vertical-align: middle;\n",
              "    }\n",
              "\n",
              "    .dataframe tbody tr th {\n",
              "        vertical-align: top;\n",
              "    }\n",
              "\n",
              "    .dataframe thead th {\n",
              "        text-align: right;\n",
              "    }\n",
              "</style>\n",
              "<table border=\"1\" class=\"dataframe\">\n",
              "  <thead>\n",
              "    <tr style=\"text-align: right;\">\n",
              "      <th></th>\n",
              "      <th>ftr</th>\n",
              "      <th>score</th>\n",
              "      <th>pval</th>\n",
              "    </tr>\n",
              "  </thead>\n",
              "  <tbody>\n",
              "    <tr>\n",
              "      <th>3</th>\n",
              "      <td>num__Balance</td>\n",
              "      <td>5613014.512</td>\n",
              "      <td>0.000</td>\n",
              "    </tr>\n",
              "    <tr>\n",
              "      <th>7</th>\n",
              "      <td>num__EstimatedSalary</td>\n",
              "      <td>55105.726</td>\n",
              "      <td>0.000</td>\n",
              "    </tr>\n",
              "    <tr>\n",
              "      <th>1</th>\n",
              "      <td>num__Age</td>\n",
              "      <td>1921.884</td>\n",
              "      <td>0.000</td>\n",
              "    </tr>\n",
              "    <tr>\n",
              "      <th>8</th>\n",
              "      <td>cat__Geography_Germany</td>\n",
              "      <td>179.158</td>\n",
              "      <td>0.000</td>\n",
              "    </tr>\n",
              "    <tr>\n",
              "      <th>6</th>\n",
              "      <td>num__IsActiveMember</td>\n",
              "      <td>91.931</td>\n",
              "      <td>0.000</td>\n",
              "    </tr>\n",
              "    <tr>\n",
              "      <th>0</th>\n",
              "      <td>num__CreditScore</td>\n",
              "      <td>81.267</td>\n",
              "      <td>0.000</td>\n",
              "    </tr>\n",
              "    <tr>\n",
              "      <th>10</th>\n",
              "      <td>cat__Gender_Male</td>\n",
              "      <td>49.333</td>\n",
              "      <td>0.000</td>\n",
              "    </tr>\n",
              "    <tr>\n",
              "      <th>9</th>\n",
              "      <td>cat__Geography_Spain</td>\n",
              "      <td>15.166</td>\n",
              "      <td>0.000</td>\n",
              "    </tr>\n",
              "    <tr>\n",
              "      <th>4</th>\n",
              "      <td>num__NumOfProducts</td>\n",
              "      <td>4.651</td>\n",
              "      <td>0.031</td>\n",
              "    </tr>\n",
              "    <tr>\n",
              "      <th>2</th>\n",
              "      <td>num__Tenure</td>\n",
              "      <td>0.782</td>\n",
              "      <td>0.376</td>\n",
              "    </tr>\n",
              "    <tr>\n",
              "      <th>5</th>\n",
              "      <td>num__HasCrCard</td>\n",
              "      <td>0.008</td>\n",
              "      <td>0.927</td>\n",
              "    </tr>\n",
              "  </tbody>\n",
              "</table>\n",
              "</div>\n",
              "      <button class=\"colab-df-convert\" onclick=\"convertToInteractive('df-6481bed8-d8eb-48a7-8b2a-9cfbc87b1b8f')\"\n",
              "              title=\"Convert this dataframe to an interactive table.\"\n",
              "              style=\"display:none;\">\n",
              "\n",
              "  <svg xmlns=\"http://www.w3.org/2000/svg\" height=\"24px\"viewBox=\"0 0 24 24\"\n",
              "       width=\"24px\">\n",
              "    <path d=\"M0 0h24v24H0V0z\" fill=\"none\"/>\n",
              "    <path d=\"M18.56 5.44l.94 2.06.94-2.06 2.06-.94-2.06-.94-.94-2.06-.94 2.06-2.06.94zm-11 1L8.5 8.5l.94-2.06 2.06-.94-2.06-.94L8.5 2.5l-.94 2.06-2.06.94zm10 10l.94 2.06.94-2.06 2.06-.94-2.06-.94-.94-2.06-.94 2.06-2.06.94z\"/><path d=\"M17.41 7.96l-1.37-1.37c-.4-.4-.92-.59-1.43-.59-.52 0-1.04.2-1.43.59L10.3 9.45l-7.72 7.72c-.78.78-.78 2.05 0 2.83L4 21.41c.39.39.9.59 1.41.59.51 0 1.02-.2 1.41-.59l7.78-7.78 2.81-2.81c.8-.78.8-2.07 0-2.86zM5.41 20L4 18.59l7.72-7.72 1.47 1.35L5.41 20z\"/>\n",
              "  </svg>\n",
              "      </button>\n",
              "\n",
              "\n",
              "\n",
              "    <div id=\"df-fcb30871-9291-48a1-8d71-15bc8e86088b\">\n",
              "      <button class=\"colab-df-quickchart\" onclick=\"quickchart('df-fcb30871-9291-48a1-8d71-15bc8e86088b')\"\n",
              "              title=\"Suggest charts.\"\n",
              "              style=\"display:none;\">\n",
              "\n",
              "<svg xmlns=\"http://www.w3.org/2000/svg\" height=\"24px\"viewBox=\"0 0 24 24\"\n",
              "     width=\"24px\">\n",
              "    <g>\n",
              "        <path d=\"M19 3H5c-1.1 0-2 .9-2 2v14c0 1.1.9 2 2 2h14c1.1 0 2-.9 2-2V5c0-1.1-.9-2-2-2zM9 17H7v-7h2v7zm4 0h-2V7h2v10zm4 0h-2v-4h2v4z\"/>\n",
              "    </g>\n",
              "</svg>\n",
              "      </button>\n",
              "    </div>\n",
              "\n",
              "<style>\n",
              "  .colab-df-quickchart {\n",
              "    background-color: #E8F0FE;\n",
              "    border: none;\n",
              "    border-radius: 50%;\n",
              "    cursor: pointer;\n",
              "    display: none;\n",
              "    fill: #1967D2;\n",
              "    height: 32px;\n",
              "    padding: 0 0 0 0;\n",
              "    width: 32px;\n",
              "  }\n",
              "\n",
              "  .colab-df-quickchart:hover {\n",
              "    background-color: #E2EBFA;\n",
              "    box-shadow: 0px 1px 2px rgba(60, 64, 67, 0.3), 0px 1px 3px 1px rgba(60, 64, 67, 0.15);\n",
              "    fill: #174EA6;\n",
              "  }\n",
              "\n",
              "  [theme=dark] .colab-df-quickchart {\n",
              "    background-color: #3B4455;\n",
              "    fill: #D2E3FC;\n",
              "  }\n",
              "\n",
              "  [theme=dark] .colab-df-quickchart:hover {\n",
              "    background-color: #434B5C;\n",
              "    box-shadow: 0px 1px 3px 1px rgba(0, 0, 0, 0.15);\n",
              "    filter: drop-shadow(0px 1px 2px rgba(0, 0, 0, 0.3));\n",
              "    fill: #FFFFFF;\n",
              "  }\n",
              "</style>\n",
              "\n",
              "    <script>\n",
              "      async function quickchart(key) {\n",
              "        const containerElement = document.querySelector('#' + key);\n",
              "        const charts = await google.colab.kernel.invokeFunction(\n",
              "            'suggestCharts', [key], {});\n",
              "      }\n",
              "    </script>\n",
              "\n",
              "      <script>\n",
              "\n",
              "function displayQuickchartButton(domScope) {\n",
              "  let quickchartButtonEl =\n",
              "    domScope.querySelector('#df-fcb30871-9291-48a1-8d71-15bc8e86088b button.colab-df-quickchart');\n",
              "  quickchartButtonEl.style.display =\n",
              "    google.colab.kernel.accessAllowed ? 'block' : 'none';\n",
              "}\n",
              "\n",
              "        displayQuickchartButton(document);\n",
              "      </script>\n",
              "      <style>\n",
              "    .colab-df-container {\n",
              "      display:flex;\n",
              "      flex-wrap:wrap;\n",
              "      gap: 12px;\n",
              "    }\n",
              "\n",
              "    .colab-df-convert {\n",
              "      background-color: #E8F0FE;\n",
              "      border: none;\n",
              "      border-radius: 50%;\n",
              "      cursor: pointer;\n",
              "      display: none;\n",
              "      fill: #1967D2;\n",
              "      height: 32px;\n",
              "      padding: 0 0 0 0;\n",
              "      width: 32px;\n",
              "    }\n",
              "\n",
              "    .colab-df-convert:hover {\n",
              "      background-color: #E2EBFA;\n",
              "      box-shadow: 0px 1px 2px rgba(60, 64, 67, 0.3), 0px 1px 3px 1px rgba(60, 64, 67, 0.15);\n",
              "      fill: #174EA6;\n",
              "    }\n",
              "\n",
              "    [theme=dark] .colab-df-convert {\n",
              "      background-color: #3B4455;\n",
              "      fill: #D2E3FC;\n",
              "    }\n",
              "\n",
              "    [theme=dark] .colab-df-convert:hover {\n",
              "      background-color: #434B5C;\n",
              "      box-shadow: 0px 1px 3px 1px rgba(0, 0, 0, 0.15);\n",
              "      filter: drop-shadow(0px 1px 2px rgba(0, 0, 0, 0.3));\n",
              "      fill: #FFFFFF;\n",
              "    }\n",
              "  </style>\n",
              "\n",
              "      <script>\n",
              "        const buttonEl =\n",
              "          document.querySelector('#df-6481bed8-d8eb-48a7-8b2a-9cfbc87b1b8f button.colab-df-convert');\n",
              "        buttonEl.style.display =\n",
              "          google.colab.kernel.accessAllowed ? 'block' : 'none';\n",
              "\n",
              "        async function convertToInteractive(key) {\n",
              "          const element = document.querySelector('#df-6481bed8-d8eb-48a7-8b2a-9cfbc87b1b8f');\n",
              "          const dataTable =\n",
              "            await google.colab.kernel.invokeFunction('convertToInteractive',\n",
              "                                                     [key], {});\n",
              "          if (!dataTable) return;\n",
              "\n",
              "          const docLinkHtml = 'Like what you see? Visit the ' +\n",
              "            '<a target=\"_blank\" href=https://colab.research.google.com/notebooks/data_table.ipynb>data table notebook</a>'\n",
              "            + ' to learn more about interactive tables.';\n",
              "          element.innerHTML = '';\n",
              "          dataTable['output_type'] = 'display_data';\n",
              "          await google.colab.output.renderOutput(dataTable, element);\n",
              "          const docLink = document.createElement('div');\n",
              "          docLink.innerHTML = docLinkHtml;\n",
              "          element.appendChild(docLink);\n",
              "        }\n",
              "      </script>\n",
              "    </div>\n",
              "  </div>\n"
            ]
          },
          "metadata": {},
          "execution_count": 15
        }
      ]
    },
    {
      "cell_type": "code",
      "source": [
        "X_num = [i for i in X_train.select_dtypes(include=np.number).columns if i not in ['HasCrCard', 'Tenure']]\n",
        "print(X_num)"
      ],
      "metadata": {
        "colab": {
          "base_uri": "https://localhost:8080/"
        },
        "id": "qYhECyYR3NST",
        "outputId": "8fef49ea-7d87-49f3-925e-e800c0cd8162"
      },
      "execution_count": null,
      "outputs": [
        {
          "output_type": "stream",
          "name": "stdout",
          "text": [
            "['CreditScore', 'Age', 'Balance', 'NumOfProducts', 'IsActiveMember', 'EstimatedSalary']\n"
          ]
        }
      ]
    },
    {
      "cell_type": "markdown",
      "metadata": {
        "id": "PIewIQKtxIC2"
      },
      "source": [
        "### Pipeline - Ingeniería de variable"
      ]
    },
    {
      "cell_type": "markdown",
      "metadata": {
        "id": "XymBDiQnrqQb"
      },
      "source": [
        "Se distingue el tratamiento o ingeniería de variables para los campos númericos y categóricos.\n",
        "\n",
        "**Variables numéricas**\n",
        "\n",
        "Para cada campo se procede a realizar la imputación de los valores perdidos por la mediana, medida de tendencia central que no es influenciable por valores atípicos/extremos. Esto en caso de que en algún momento se presenten valores perdidos aunque no es el caso en este conjunto de datos.\n",
        "\n",
        "Posterior se ejecutó el proceso de estandarización robusta para que la magnitud de las variables sea comparable y considere la presencia de outliers (a partir del rango intercuatílico).\n",
        "\n",
        "Fórmula: z = (x - u) / s\n",
        "\n",
        "Donde para columna se resta su media (x) y se divide para su desviación estándar (s), para que no se ejerza una influencia de algunas variables por su escala (influencia por su varianza).\n",
        "\n",
        "**Variables categóricas**\n",
        "\n",
        "Para estas variables se aplica el proceso denominado \"One Hot Encoding\" que consiste en que por cada categória de un campo se crean nuevos campos con valores de 0 y 1."
      ]
    },
    {
      "cell_type": "code",
      "execution_count": null,
      "metadata": {
        "id": "TfUfUjs0xIC2"
      },
      "outputs": [],
      "source": [
        "# Creación de un Pipeline para el preprocesamiento de las variables numéricas\n",
        "numeric_transformer = Pipeline(steps=[\n",
        "    ('imputer', SimpleImputer(strategy='median')),\n",
        "    (\"scaler\", RobustScaler())])\n",
        "\n",
        "categorical_transformer = Pipeline(steps=[\n",
        "    (\"categorical\", OneHotEncoder(handle_unknown=\"ignore\", drop='first'))])"
      ]
    },
    {
      "cell_type": "code",
      "execution_count": null,
      "metadata": {
        "id": "nXIUGWKExIC2",
        "colab": {
          "base_uri": "https://localhost:8080/",
          "height": 153
        },
        "outputId": "99e312c5-d6ec-4fb9-fd28-deaa149963ed"
      },
      "outputs": [
        {
          "output_type": "execute_result",
          "data": {
            "text/plain": [
              "ColumnTransformer(transformers=[('num',\n",
              "                                 Pipeline(steps=[('imputer',\n",
              "                                                  SimpleImputer(strategy='median')),\n",
              "                                                 ('scaler', RobustScaler())]),\n",
              "                                 ['CreditScore', 'Age', 'Balance',\n",
              "                                  'NumOfProducts', 'IsActiveMember',\n",
              "                                  'EstimatedSalary']),\n",
              "                                ('cat',\n",
              "                                 Pipeline(steps=[('categorical',\n",
              "                                                  OneHotEncoder(drop='first',\n",
              "                                                                handle_unknown='ignore'))]),\n",
              "                                 Index(['Geography', 'Gender'], dtype='object'))])"
            ],
            "text/html": [
              "<style>#sk-container-id-1 {color: black;background-color: white;}#sk-container-id-1 pre{padding: 0;}#sk-container-id-1 div.sk-toggleable {background-color: white;}#sk-container-id-1 label.sk-toggleable__label {cursor: pointer;display: block;width: 100%;margin-bottom: 0;padding: 0.3em;box-sizing: border-box;text-align: center;}#sk-container-id-1 label.sk-toggleable__label-arrow:before {content: \"▸\";float: left;margin-right: 0.25em;color: #696969;}#sk-container-id-1 label.sk-toggleable__label-arrow:hover:before {color: black;}#sk-container-id-1 div.sk-estimator:hover label.sk-toggleable__label-arrow:before {color: black;}#sk-container-id-1 div.sk-toggleable__content {max-height: 0;max-width: 0;overflow: hidden;text-align: left;background-color: #f0f8ff;}#sk-container-id-1 div.sk-toggleable__content pre {margin: 0.2em;color: black;border-radius: 0.25em;background-color: #f0f8ff;}#sk-container-id-1 input.sk-toggleable__control:checked~div.sk-toggleable__content {max-height: 200px;max-width: 100%;overflow: auto;}#sk-container-id-1 input.sk-toggleable__control:checked~label.sk-toggleable__label-arrow:before {content: \"▾\";}#sk-container-id-1 div.sk-estimator input.sk-toggleable__control:checked~label.sk-toggleable__label {background-color: #d4ebff;}#sk-container-id-1 div.sk-label input.sk-toggleable__control:checked~label.sk-toggleable__label {background-color: #d4ebff;}#sk-container-id-1 input.sk-hidden--visually {border: 0;clip: rect(1px 1px 1px 1px);clip: rect(1px, 1px, 1px, 1px);height: 1px;margin: -1px;overflow: hidden;padding: 0;position: absolute;width: 1px;}#sk-container-id-1 div.sk-estimator {font-family: monospace;background-color: #f0f8ff;border: 1px dotted black;border-radius: 0.25em;box-sizing: border-box;margin-bottom: 0.5em;}#sk-container-id-1 div.sk-estimator:hover {background-color: #d4ebff;}#sk-container-id-1 div.sk-parallel-item::after {content: \"\";width: 100%;border-bottom: 1px solid gray;flex-grow: 1;}#sk-container-id-1 div.sk-label:hover label.sk-toggleable__label {background-color: #d4ebff;}#sk-container-id-1 div.sk-serial::before {content: \"\";position: absolute;border-left: 1px solid gray;box-sizing: border-box;top: 0;bottom: 0;left: 50%;z-index: 0;}#sk-container-id-1 div.sk-serial {display: flex;flex-direction: column;align-items: center;background-color: white;padding-right: 0.2em;padding-left: 0.2em;position: relative;}#sk-container-id-1 div.sk-item {position: relative;z-index: 1;}#sk-container-id-1 div.sk-parallel {display: flex;align-items: stretch;justify-content: center;background-color: white;position: relative;}#sk-container-id-1 div.sk-item::before, #sk-container-id-1 div.sk-parallel-item::before {content: \"\";position: absolute;border-left: 1px solid gray;box-sizing: border-box;top: 0;bottom: 0;left: 50%;z-index: -1;}#sk-container-id-1 div.sk-parallel-item {display: flex;flex-direction: column;z-index: 1;position: relative;background-color: white;}#sk-container-id-1 div.sk-parallel-item:first-child::after {align-self: flex-end;width: 50%;}#sk-container-id-1 div.sk-parallel-item:last-child::after {align-self: flex-start;width: 50%;}#sk-container-id-1 div.sk-parallel-item:only-child::after {width: 0;}#sk-container-id-1 div.sk-dashed-wrapped {border: 1px dashed gray;margin: 0 0.4em 0.5em 0.4em;box-sizing: border-box;padding-bottom: 0.4em;background-color: white;}#sk-container-id-1 div.sk-label label {font-family: monospace;font-weight: bold;display: inline-block;line-height: 1.2em;}#sk-container-id-1 div.sk-label-container {text-align: center;}#sk-container-id-1 div.sk-container {/* jupyter's `normalize.less` sets `[hidden] { display: none; }` but bootstrap.min.css set `[hidden] { display: none !important; }` so we also need the `!important` here to be able to override the default hidden behavior on the sphinx rendered scikit-learn.org. See: https://github.com/scikit-learn/scikit-learn/issues/21755 */display: inline-block !important;position: relative;}#sk-container-id-1 div.sk-text-repr-fallback {display: none;}</style><div id=\"sk-container-id-1\" class=\"sk-top-container\"><div class=\"sk-text-repr-fallback\"><pre>ColumnTransformer(transformers=[(&#x27;num&#x27;,\n",
              "                                 Pipeline(steps=[(&#x27;imputer&#x27;,\n",
              "                                                  SimpleImputer(strategy=&#x27;median&#x27;)),\n",
              "                                                 (&#x27;scaler&#x27;, RobustScaler())]),\n",
              "                                 [&#x27;CreditScore&#x27;, &#x27;Age&#x27;, &#x27;Balance&#x27;,\n",
              "                                  &#x27;NumOfProducts&#x27;, &#x27;IsActiveMember&#x27;,\n",
              "                                  &#x27;EstimatedSalary&#x27;]),\n",
              "                                (&#x27;cat&#x27;,\n",
              "                                 Pipeline(steps=[(&#x27;categorical&#x27;,\n",
              "                                                  OneHotEncoder(drop=&#x27;first&#x27;,\n",
              "                                                                handle_unknown=&#x27;ignore&#x27;))]),\n",
              "                                 Index([&#x27;Geography&#x27;, &#x27;Gender&#x27;], dtype=&#x27;object&#x27;))])</pre><b>In a Jupyter environment, please rerun this cell to show the HTML representation or trust the notebook. <br />On GitHub, the HTML representation is unable to render, please try loading this page with nbviewer.org.</b></div><div class=\"sk-container\" hidden><div class=\"sk-item sk-dashed-wrapped\"><div class=\"sk-label-container\"><div class=\"sk-label sk-toggleable\"><input class=\"sk-toggleable__control sk-hidden--visually\" id=\"sk-estimator-id-1\" type=\"checkbox\" ><label for=\"sk-estimator-id-1\" class=\"sk-toggleable__label sk-toggleable__label-arrow\">ColumnTransformer</label><div class=\"sk-toggleable__content\"><pre>ColumnTransformer(transformers=[(&#x27;num&#x27;,\n",
              "                                 Pipeline(steps=[(&#x27;imputer&#x27;,\n",
              "                                                  SimpleImputer(strategy=&#x27;median&#x27;)),\n",
              "                                                 (&#x27;scaler&#x27;, RobustScaler())]),\n",
              "                                 [&#x27;CreditScore&#x27;, &#x27;Age&#x27;, &#x27;Balance&#x27;,\n",
              "                                  &#x27;NumOfProducts&#x27;, &#x27;IsActiveMember&#x27;,\n",
              "                                  &#x27;EstimatedSalary&#x27;]),\n",
              "                                (&#x27;cat&#x27;,\n",
              "                                 Pipeline(steps=[(&#x27;categorical&#x27;,\n",
              "                                                  OneHotEncoder(drop=&#x27;first&#x27;,\n",
              "                                                                handle_unknown=&#x27;ignore&#x27;))]),\n",
              "                                 Index([&#x27;Geography&#x27;, &#x27;Gender&#x27;], dtype=&#x27;object&#x27;))])</pre></div></div></div><div class=\"sk-parallel\"><div class=\"sk-parallel-item\"><div class=\"sk-item\"><div class=\"sk-label-container\"><div class=\"sk-label sk-toggleable\"><input class=\"sk-toggleable__control sk-hidden--visually\" id=\"sk-estimator-id-2\" type=\"checkbox\" ><label for=\"sk-estimator-id-2\" class=\"sk-toggleable__label sk-toggleable__label-arrow\">num</label><div class=\"sk-toggleable__content\"><pre>[&#x27;CreditScore&#x27;, &#x27;Age&#x27;, &#x27;Balance&#x27;, &#x27;NumOfProducts&#x27;, &#x27;IsActiveMember&#x27;, &#x27;EstimatedSalary&#x27;]</pre></div></div></div><div class=\"sk-serial\"><div class=\"sk-item\"><div class=\"sk-serial\"><div class=\"sk-item\"><div class=\"sk-estimator sk-toggleable\"><input class=\"sk-toggleable__control sk-hidden--visually\" id=\"sk-estimator-id-3\" type=\"checkbox\" ><label for=\"sk-estimator-id-3\" class=\"sk-toggleable__label sk-toggleable__label-arrow\">SimpleImputer</label><div class=\"sk-toggleable__content\"><pre>SimpleImputer(strategy=&#x27;median&#x27;)</pre></div></div></div><div class=\"sk-item\"><div class=\"sk-estimator sk-toggleable\"><input class=\"sk-toggleable__control sk-hidden--visually\" id=\"sk-estimator-id-4\" type=\"checkbox\" ><label for=\"sk-estimator-id-4\" class=\"sk-toggleable__label sk-toggleable__label-arrow\">RobustScaler</label><div class=\"sk-toggleable__content\"><pre>RobustScaler()</pre></div></div></div></div></div></div></div></div><div class=\"sk-parallel-item\"><div class=\"sk-item\"><div class=\"sk-label-container\"><div class=\"sk-label sk-toggleable\"><input class=\"sk-toggleable__control sk-hidden--visually\" id=\"sk-estimator-id-5\" type=\"checkbox\" ><label for=\"sk-estimator-id-5\" class=\"sk-toggleable__label sk-toggleable__label-arrow\">cat</label><div class=\"sk-toggleable__content\"><pre>Index([&#x27;Geography&#x27;, &#x27;Gender&#x27;], dtype=&#x27;object&#x27;)</pre></div></div></div><div class=\"sk-serial\"><div class=\"sk-item\"><div class=\"sk-serial\"><div class=\"sk-item\"><div class=\"sk-estimator sk-toggleable\"><input class=\"sk-toggleable__control sk-hidden--visually\" id=\"sk-estimator-id-6\" type=\"checkbox\" ><label for=\"sk-estimator-id-6\" class=\"sk-toggleable__label sk-toggleable__label-arrow\">OneHotEncoder</label><div class=\"sk-toggleable__content\"><pre>OneHotEncoder(drop=&#x27;first&#x27;, handle_unknown=&#x27;ignore&#x27;)</pre></div></div></div></div></div></div></div></div></div></div></div></div>"
            ]
          },
          "metadata": {},
          "execution_count": 18
        }
      ],
      "source": [
        "# Delimitar el preprocesamiento de variables\n",
        "preprocessor = ColumnTransformer(\n",
        "    transformers=[\n",
        "        ('num', numeric_transformer, X_num),\n",
        "        ('cat', categorical_transformer, X_cat)], verbose_feature_names_out=True)\n",
        "\n",
        "preprocessor"
      ]
    },
    {
      "cell_type": "code",
      "source": [
        "# Almacenar el nombre de las variables transformadas\n",
        "column_transformed_names = preprocessor.fit(X_train, y_train).get_feature_names_out().tolist()"
      ],
      "metadata": {
        "id": "oY3DJa7KQ2bt"
      },
      "execution_count": null,
      "outputs": []
    },
    {
      "cell_type": "markdown",
      "metadata": {
        "id": "5F2XSbZhXZBT"
      },
      "source": [
        "## Modelamiento\n",
        "\n",
        "Se delimita que la métrica de interés será el AUC dado el desbalance en las categorías de la variable objetivo."
      ]
    },
    {
      "cell_type": "code",
      "execution_count": null,
      "metadata": {
        "id": "qxr8QN8ka8Ng"
      },
      "outputs": [],
      "source": [
        "metrica = 'roc_auc'"
      ]
    },
    {
      "cell_type": "markdown",
      "metadata": {
        "id": "N_xyHVw-Xc4W"
      },
      "source": [
        "### Modelo de Regresión Logística\n",
        "\n",
        "Aplicamos el balanceo de datos que tiene por defecto el paquete de sklearn en la regresión logística."
      ]
    },
    {
      "cell_type": "code",
      "execution_count": null,
      "metadata": {
        "id": "luUpxFsVXgeD"
      },
      "outputs": [],
      "source": [
        "reg_log = LogisticRegression(class_weight='balanced', n_jobs = -1)"
      ]
    },
    {
      "cell_type": "code",
      "execution_count": null,
      "metadata": {
        "id": "eIR-kdzMYQIa"
      },
      "outputs": [],
      "source": [
        "# Creción de Pipeline procesamiento y entrenamiento\n",
        "reg_log_pipeline = Pipeline(steps=[('preprocessor', preprocessor),\n",
        "                                   ('regressor', reg_log)])"
      ]
    },
    {
      "cell_type": "code",
      "execution_count": null,
      "metadata": {
        "colab": {
          "base_uri": "https://localhost:8080/"
        },
        "id": "0BXksSriYYE0",
        "outputId": "b6866c43-4ea6-474f-877b-87c719d5244d"
      },
      "outputs": [
        {
          "output_type": "stream",
          "name": "stdout",
          "text": [
            "CV mejor parametro {'regressor__C': 0.01}\n",
            "CV métrica: 0.7732295749824234\n",
            "CPU times: user 294 ms, sys: 118 ms, total: 412 ms\n",
            "Wall time: 3.93 s\n"
          ]
        }
      ],
      "source": [
        "# Validación Cruzada\n",
        "%%time\n",
        "param_grid_reg_log = {'regressor__C': [0.01, 0.05 , 1.]}\n",
        "\n",
        "grid_reg_log = GridSearchCV(cv = 10,\n",
        "                               param_grid = param_grid_reg_log,\n",
        "                               estimator = reg_log_pipeline,\n",
        "                               scoring = metrica,\n",
        "                               n_jobs = -1)\n",
        "\n",
        "grid_reg_log.fit(X_train, y_train)\n",
        "\n",
        "# Imprimir el hiperparámetro óptimo y el mejor score\n",
        "print('CV mejor parametro', grid_reg_log.best_params_)\n",
        "print('CV métrica:', grid_reg_log.best_score_)"
      ]
    },
    {
      "cell_type": "code",
      "execution_count": null,
      "metadata": {
        "colab": {
          "base_uri": "https://localhost:8080/",
          "height": 595
        },
        "id": "acdwum4Staxt",
        "outputId": "2a8a729b-662a-4967-cdf2-fd43bd5e54f9"
      },
      "outputs": [
        {
          "output_type": "execute_result",
          "data": {
            "text/plain": [
              "Text(0.5, 1.0, 'Coeficientes de los predictores')"
            ]
          },
          "metadata": {},
          "execution_count": 24
        },
        {
          "output_type": "display_data",
          "data": {
            "text/plain": [
              "<Figure size 2100x600 with 1 Axes>"
            ],
            "image/png": "[encoded data removed]"
          },
          "metadata": {}
        }
      ],
      "source": [
        "# Obtener coeficientes de cada variable\n",
        "best_rl = grid_reg_log.best_estimator_.named_steps['regressor']\n",
        "coeficientes_rl = best_rl.coef_\n",
        "coeficientes_rl_list = list(coeficientes_rl.flatten())\n",
        "\n",
        "# Graficando coeficientes\n",
        "plt.figure(figsize=(21,6))\n",
        "plt.bar([i for i in column_transformed_names], coeficientes_rl_list)\n",
        "plt.xticks(rotation=90)\n",
        "plt.xlabel(\"Variable\")\n",
        "plt.ylabel(\"Coeficientes\")\n",
        "plt.title(\"Coeficientes de los predictores\")"
      ]
    },
    {
      "cell_type": "code",
      "source": [
        "# Odds Values\n",
        "for i in range(0, len(coeficientes_rl_list)):\n",
        "   odds_variables = math.exp(coeficientes_rl[0][i])\n",
        "   print(column_transformed_names[i], ':', odds_variables)"
      ],
      "metadata": {
        "colab": {
          "base_uri": "https://localhost:8080/"
        },
        "id": "85Ym95dcPJ5_",
        "outputId": "1fdc316a-32c8-41fa-93ee-23002b0b7c50"
      },
      "execution_count": null,
      "outputs": [
        {
          "output_type": "stream",
          "name": "stdout",
          "text": [
            "num__CreditScore : 0.9315059448658689\n",
            "num__Age : 2.341651194998056\n",
            "num__Balance : 1.374389671862557\n",
            "num__NumOfProducts : 0.9122183004014911\n",
            "num__IsActiveMember : 0.4858272026294285\n",
            "num__EstimatedSalary : 1.0419988127679087\n",
            "cat__Geography_Germany : 1.7580441596057284\n",
            "cat__Geography_Spain : 0.9794727372054581\n",
            "cat__Gender_Male : 0.6243606157485433\n"
          ]
        }
      ]
    },
    {
      "cell_type": "code",
      "execution_count": null,
      "metadata": {
        "colab": {
          "base_uri": "https://localhost:8080/"
        },
        "id": "hX6Jh2e2Ylgx",
        "outputId": "8bc75d16-35de-4a12-8ccd-27d18e68e956"
      },
      "outputs": [
        {
          "output_type": "stream",
          "name": "stdout",
          "text": [
            "Resultado métrica datos test: 0.7593803356515221\n"
          ]
        }
      ],
      "source": [
        "# Calculo métrica (datos test)\n",
        "metric_rl_test = grid_reg_log.score(X_test, y_test)\n",
        "print('Resultado métrica datos test:', metric_rl_test)"
      ]
    },
    {
      "cell_type": "markdown",
      "metadata": {
        "id": "iveDsgq-gf68"
      },
      "source": [
        "### Modelo de Random Forest"
      ]
    },
    {
      "cell_type": "code",
      "execution_count": null,
      "metadata": {
        "id": "Lel4qUUogdzF"
      },
      "outputs": [],
      "source": [
        "rf = RandomForestClassifier(criterion='gini',\n",
        "                           random_state=SEED,\n",
        "                           n_jobs=-1)"
      ]
    },
    {
      "cell_type": "code",
      "execution_count": null,
      "metadata": {
        "id": "V8cJAW_EgxI4"
      },
      "outputs": [],
      "source": [
        "# Creción de Pipeline procesamiento y entrenamiento\n",
        "random_forest_pipeline = Pipeline(steps=[('preprocessor', preprocessor),\n",
        "                                         ('regressor', rf)])"
      ]
    },
    {
      "cell_type": "code",
      "execution_count": null,
      "metadata": {
        "id": "QaTB9g3pg0mW",
        "colab": {
          "base_uri": "https://localhost:8080/"
        },
        "outputId": "972d7a2b-cfb9-41d4-8b30-187e67de64f1"
      },
      "outputs": [
        {
          "output_type": "stream",
          "name": "stdout",
          "text": [
            "CV mejor parametro {'regressor__max_depth': 9}\n",
            "CV métrica: 0.8623301326193527\n",
            "CPU times: user 2.15 s, sys: 144 ms, total: 2.29 s\n",
            "Wall time: 57.3 s\n"
          ]
        }
      ],
      "source": [
        "%%time\n",
        "param_grid_random_forest = {'regressor__max_depth': [5, 6, 7, 8, 9]}\n",
        "\n",
        "grid_random_forest = GridSearchCV(cv = 10,\n",
        "                                  param_grid = param_grid_random_forest,\n",
        "                                  estimator = random_forest_pipeline,\n",
        "                                  scoring = metrica,\n",
        "                                  n_jobs = -1)\n",
        "\n",
        "grid_random_forest.fit(X_train, y_train)\n",
        "\n",
        "# Imprimir el hiperparámetro óptimo y el mejor score\n",
        "print('CV mejor parametro', grid_random_forest.best_params_)\n",
        "print('CV métrica:', grid_random_forest.best_score_)"
      ]
    },
    {
      "cell_type": "code",
      "execution_count": null,
      "metadata": {
        "id": "cGmnNfEDs56u",
        "colab": {
          "base_uri": "https://localhost:8080/",
          "height": 596
        },
        "outputId": "8c1bacdd-eefb-4847-d945-8901ae5a8e10"
      },
      "outputs": [
        {
          "output_type": "execute_result",
          "data": {
            "text/plain": [
              "Text(0.5, 1.0, 'Importancia de predictores')"
            ]
          },
          "metadata": {},
          "execution_count": 30
        },
        {
          "output_type": "display_data",
          "data": {
            "text/plain": [
              "<Figure size 2100x600 with 1 Axes>"
            ],
            "image/png": "[encoded data removed]"
          },
          "metadata": {}
        }
      ],
      "source": [
        "# Obtener importancia de cada variable\n",
        "best_rf = grid_random_forest.best_estimator_.named_steps['regressor']\n",
        "importancia_rf = best_rf.feature_importances_\n",
        "\n",
        "# # Graficando importancia\n",
        "plt.figure(figsize=(21,6))\n",
        "plt.bar([i for i in column_transformed_names], importancia_rf)\n",
        "plt.xticks(rotation=90)\n",
        "plt.xlabel(\"Variable\")\n",
        "plt.ylabel(\"Importancia\")\n",
        "plt.title(\"Importancia de predictores\")"
      ]
    },
    {
      "cell_type": "code",
      "execution_count": null,
      "metadata": {
        "id": "7St5NYSehkPu",
        "colab": {
          "base_uri": "https://localhost:8080/"
        },
        "outputId": "3a016d3a-ad36-4b0b-a214-aeb0c67cb28b"
      },
      "outputs": [
        {
          "output_type": "stream",
          "name": "stdout",
          "text": [
            "Resultado métrica datos test: 0.8656113740859503\n"
          ]
        }
      ],
      "source": [
        "# Calculo métrica (datos test)\n",
        "metric_rf_test = grid_random_forest.score(X_test, y_test)\n",
        "print('Resultado métrica datos test:', metric_rf_test)"
      ]
    }
  ],
  "metadata": {
    "application/vnd.databricks.v1+notebook": {
      "dashboards": [],
      "language": "python",
      "notebookMetadata": {
        "pythonIndentUnit": 2
      },
      "notebookName": "03 Proyecto final - Fase 3 (Resuelto)",
      "notebookOrigID": 4210819233675258,
      "widgets": {}
    },
    "colab": {
      "provenance": [],
      "include_colab_link": true
    },
    "kernelspec": {
      "display_name": "Python 3",
      "name": "python3"
    },
    "language_info": {
      "codemirror_mode": {
        "name": "ipython",
        "version": 3
      },
      "file_extension": ".py",
      "mimetype": "text/x-python",
      "name": "python",
      "nbconvert_exporter": "python",
      "pygments_lexer": "ipython3",
      "version": "3.7.6"
    },
    "toc": {
      "base_numbering": 1,
      "nav_menu": {},
      "number_sections": true,
      "sideBar": true,
      "skip_h1_title": false,
      "title_cell": "Table of Contents",
      "title_sidebar": "Contents",
      "toc_cell": false,
      "toc_position": {},
      "toc_section_display": true,
      "toc_window_display": false
    }
  },
  "nbformat": 4,
  "nbformat_minor": 0
}